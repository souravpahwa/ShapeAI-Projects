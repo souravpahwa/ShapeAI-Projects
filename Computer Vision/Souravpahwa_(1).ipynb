{
  "nbformat": 4,
  "nbformat_minor": 0,
  "metadata": {
    "colab": {
      "name": "Souravpahwa (1).ipynb",
      "provenance": [],
      "include_colab_link": true
    },
    "kernelspec": {
      "name": "python3",
      "display_name": "Python 3"
    }
  },
  "cells": [
    {
      "cell_type": "markdown",
      "metadata": {
        "id": "view-in-github",
        "colab_type": "text"
      },
      "source": [
        "<a href=\"https://colab.research.google.com/github/Sourav61/Computer-vision-ShapeAi-/blob/main/Souravpahwa_(1).ipynb\" target=\"_parent\"><img src=\"https://colab.research.google.com/assets/colab-badge.svg\" alt=\"Open In Colab\"/></a>"
      ]
    },
    {
      "cell_type": "code",
      "metadata": {
        "colab": {
          "base_uri": "https://localhost:8080/"
        },
        "id": "HcHpNaBgZrhA",
        "outputId": "041ab8e8-aad1-40be-e43b-e76a4991ebad"
      },
      "source": [
        "from google.colab import drive\n",
        "drive.mount('/content/drive')"
      ],
      "execution_count": 1,
      "outputs": [
        {
          "output_type": "stream",
          "text": [
            "Mounted at /content/drive\n"
          ],
          "name": "stdout"
        }
      ]
    },
    {
      "cell_type": "markdown",
      "metadata": {
        "id": "mpcaTJi4PknZ"
      },
      "source": [
        "Here we are importing Tensorflow(low level API) which combines huge chunk of code into some funtions. keras is a high level ApI which further combines various functions made by tensorflow."
      ]
    },
    {
      "cell_type": "code",
      "metadata": {
        "id": "LkjWEzBHPpih"
      },
      "source": [
        "import tensorflow as tf\n",
        "\n",
        "from tensorflow.keras import datasets, layers, models\n",
        "import matplotlib.pyplot as plt"
      ],
      "execution_count": null,
      "outputs": []
    },
    {
      "cell_type": "markdown",
      "metadata": {
        "id": "JX68787JSvQJ"
      },
      "source": [
        "We are using cifar10 dataset which consist of 10 different classes consisting of 6000 images in each classes, 50000 training images and 10,000 testing images.\n",
        "\n",
        "Here we are downloading cifar10 load data and dividing images into train images and train labels, testing images and testing labels using tuple unpacking."
      ]
    },
    {
      "cell_type": "code",
      "metadata": {
        "colab": {
          "base_uri": "https://localhost:8080/"
        },
        "id": "hSh5rCTySurD",
        "outputId": "92814ba8-283b-4a40-d085-78a1dfe084fa"
      },
      "source": [
        "(train_images, train_labels), (test_images, test_labels) = datasets.cifar10.load_data()\n",
        "\n",
        "\n",
        "train_images, test_images = train_images / 255.0, test_images / 255.0\n",
        "#Dividing pixels by 255.0 to make calculations easy."
      ],
      "execution_count": null,
      "outputs": [
        {
          "output_type": "stream",
          "text": [
            "Downloading data from https://www.cs.toronto.edu/~kriz/cifar-10-python.tar.gz\n",
            "170500096/170498071 [==============================] - 6s 0us/step\n"
          ],
          "name": "stdout"
        }
      ]
    },
    {
      "cell_type": "markdown",
      "metadata": {
        "id": "XM18Yvw_UW15"
      },
      "source": [
        "Here we are creating convolutional base i.e. we are creating a model.\n",
        "Then we are adding 2D convolutional layer(Conv2D) with 32 filters of size 3 by 3 and using \"relu\" activation function from input images of shape 32 by 32 pixels with 3 channels Red,Green, Blue.\n",
        "Then we are adding 2D Maxpool layer.\n"
      ]
    },
    {
      "cell_type": "code",
      "metadata": {
        "id": "E_W-GCKVUXIg"
      },
      "source": [
        "model = models.Sequential()\n",
        "model.add(layers.Conv2D(32, (3, 3), activation='relu', input_shape=(32 , 32, 3)))\n",
        "model.add(layers.MaxPooling2D((2, 2))) \n",
        "model.add(layers.Conv2D(64, (3, 3), activation='relu'))\n",
        "model.add(layers.MaxPooling2D((2, 2))) \n",
        "model.add(layers.Conv2D(64, (3, 3), activation='relu'))"
      ],
      "execution_count": null,
      "outputs": []
    },
    {
      "cell_type": "markdown",
      "metadata": {
        "id": "qzX4d9h9XgdL"
      },
      "source": [
        "Here we are displaying architecture of the model."
      ]
    },
    {
      "cell_type": "code",
      "metadata": {
        "colab": {
          "base_uri": "https://localhost:8080/"
        },
        "id": "9ZRF8K9pXgoi",
        "outputId": "b1715d6f-b5cc-48c7-fae1-941a0e9d9fce"
      },
      "source": [
        "model.summary()"
      ],
      "execution_count": null,
      "outputs": [
        {
          "output_type": "stream",
          "text": [
            "Model: \"sequential\"\n",
            "_________________________________________________________________\n",
            "Layer (type)                 Output Shape              Param #   \n",
            "=================================================================\n",
            "conv2d_2 (Conv2D)            (None, 30, 30, 32)        896       \n",
            "_________________________________________________________________\n",
            "max_pooling2d (MaxPooling2D) (None, 15, 15, 32)        0         \n",
            "_________________________________________________________________\n",
            "conv2d_3 (Conv2D)            (None, 13, 13, 64)        18496     \n",
            "_________________________________________________________________\n",
            "max_pooling2d_1 (MaxPooling2 (None, 6, 6, 64)          0         \n",
            "_________________________________________________________________\n",
            "conv2d_4 (Conv2D)            (None, 4, 4, 64)          36928     \n",
            "=================================================================\n",
            "Total params: 56,320\n",
            "Trainable params: 56,320\n",
            "Non-trainable params: 0\n",
            "_________________________________________________________________\n"
          ],
          "name": "stdout"
        }
      ]
    },
    {
      "cell_type": "markdown",
      "metadata": {
        "id": "jfvlJ57BZJE8"
      },
      "source": [
        "Now we are adding dense layers to perform classification"
      ]
    },
    {
      "cell_type": "code",
      "metadata": {
        "id": "KF5k8c-5ZJWC"
      },
      "source": [
        "model.add(layers.Flatten())\n",
        "model.add(layers.Dense (64, activation='relu'))\n",
        "model.add(layers.Dense(10))"
      ],
      "execution_count": null,
      "outputs": []
    },
    {
      "cell_type": "markdown",
      "metadata": {
        "id": "Oc-9czQma016"
      },
      "source": [
        "Her we have complete architecture of our model."
      ]
    },
    {
      "cell_type": "code",
      "metadata": {
        "colab": {
          "base_uri": "https://localhost:8080/"
        },
        "id": "ZYJiZQ8na1AP",
        "outputId": "6c670f79-e1a4-4138-ffc8-4f3a8b00aaf3"
      },
      "source": [
        "model.summary()"
      ],
      "execution_count": null,
      "outputs": [
        {
          "output_type": "stream",
          "text": [
            "Model: \"sequential\"\n",
            "_________________________________________________________________\n",
            "Layer (type)                 Output Shape              Param #   \n",
            "=================================================================\n",
            "conv2d_2 (Conv2D)            (None, 30, 30, 32)        896       \n",
            "_________________________________________________________________\n",
            "max_pooling2d (MaxPooling2D) (None, 15, 15, 32)        0         \n",
            "_________________________________________________________________\n",
            "conv2d_3 (Conv2D)            (None, 13, 13, 64)        18496     \n",
            "_________________________________________________________________\n",
            "max_pooling2d_1 (MaxPooling2 (None, 6, 6, 64)          0         \n",
            "_________________________________________________________________\n",
            "conv2d_4 (Conv2D)            (None, 4, 4, 64)          36928     \n",
            "_________________________________________________________________\n",
            "flatten (Flatten)            (None, 1024)              0         \n",
            "_________________________________________________________________\n",
            "dense (Dense)                (None, 64)                65600     \n",
            "_________________________________________________________________\n",
            "dense_1 (Dense)              (None, 10)                650       \n",
            "_________________________________________________________________\n",
            "flatten_1 (Flatten)          (None, 10)                0         \n",
            "_________________________________________________________________\n",
            "dense_2 (Dense)              (None, 64)                704       \n",
            "_________________________________________________________________\n",
            "dense_3 (Dense)              (None, 11)                715       \n",
            "_________________________________________________________________\n",
            "flatten_2 (Flatten)          (None, 11)                0         \n",
            "_________________________________________________________________\n",
            "dense_4 (Dense)              (None, 64)                768       \n",
            "_________________________________________________________________\n",
            "dense_5 (Dense)              (None, 9)                 585       \n",
            "_________________________________________________________________\n",
            "flatten_3 (Flatten)          (None, 9)                 0         \n",
            "_________________________________________________________________\n",
            "dense_6 (Dense)              (None, 64)                640       \n",
            "_________________________________________________________________\n",
            "dense_7 (Dense)              (None, 11)                715       \n",
            "_________________________________________________________________\n",
            "flatten_4 (Flatten)          (None, 11)                0         \n",
            "_________________________________________________________________\n",
            "dense_8 (Dense)              (None, 64)                768       \n",
            "_________________________________________________________________\n",
            "dense_9 (Dense)              (None, 10)                650       \n",
            "=================================================================\n",
            "Total params: 128,115\n",
            "Trainable params: 128,115\n",
            "Non-trainable params: 0\n",
            "_________________________________________________________________\n"
          ],
          "name": "stdout"
        }
      ]
    },
    {
      "cell_type": "markdown",
      "metadata": {
        "id": "PnyTTZKBbTnj"
      },
      "source": [
        "We are compiling and training our model."
      ]
    },
    {
      "cell_type": "code",
      "metadata": {
        "colab": {
          "base_uri": "https://localhost:8080/"
        },
        "id": "Iq-rkymdbTuB",
        "outputId": "639ed8de-eca6-4775-d726-8ac4bade312d"
      },
      "source": [
        "model.compile(optimizer='adam',\n",
        "              loss=tf.keras.losses.SparseCategoricalCrossentropy(from_logits=True),\n",
        "              metrics=['accuracy'])\n",
        "\n",
        "history = model.fit(train_images, train_labels, epochs=10,\n",
        "                    validation_data=(test_images, test_labels))"
      ],
      "execution_count": null,
      "outputs": [
        {
          "output_type": "stream",
          "text": [
            "Epoch 1/10\n",
            "1563/1563 [==============================] - 64s 41ms/step - loss: 0.9045 - accuracy: 0.7810 - val_loss: 1.2429 - val_accuracy: 0.6931\n",
            "Epoch 2/10\n",
            "1563/1563 [==============================] - 63s 40ms/step - loss: 0.2686 - accuracy: 0.9097 - val_loss: 1.3178 - val_accuracy: 0.6886\n",
            "Epoch 3/10\n",
            "1563/1563 [==============================] - 62s 39ms/step - loss: 0.2607 - accuracy: 0.9116 - val_loss: 1.3573 - val_accuracy: 0.6864\n",
            "Epoch 4/10\n",
            "1563/1563 [==============================] - 62s 40ms/step - loss: 0.2418 - accuracy: 0.9186 - val_loss: 1.3224 - val_accuracy: 0.6966\n",
            "Epoch 5/10\n",
            "1563/1563 [==============================] - 61s 39ms/step - loss: 0.2342 - accuracy: 0.9211 - val_loss: 1.3276 - val_accuracy: 0.6912\n",
            "Epoch 6/10\n",
            "1563/1563 [==============================] - 61s 39ms/step - loss: 0.2316 - accuracy: 0.9226 - val_loss: 1.4444 - val_accuracy: 0.6884\n",
            "Epoch 7/10\n",
            "1563/1563 [==============================] - 62s 39ms/step - loss: 0.2227 - accuracy: 0.9267 - val_loss: 1.4131 - val_accuracy: 0.6924\n",
            "Epoch 8/10\n",
            "1563/1563 [==============================] - 62s 39ms/step - loss: 0.2088 - accuracy: 0.9312 - val_loss: 1.4844 - val_accuracy: 0.7021\n",
            "Epoch 9/10\n",
            "1563/1563 [==============================] - 62s 40ms/step - loss: 0.1987 - accuracy: 0.9332 - val_loss: 1.4045 - val_accuracy: 0.6879\n",
            "Epoch 10/10\n",
            "1563/1563 [==============================] - 62s 39ms/step - loss: 0.1976 - accuracy: 0.9342 - val_loss: 1.4373 - val_accuracy: 0.6886\n"
          ],
          "name": "stdout"
        }
      ]
    },
    {
      "cell_type": "markdown",
      "metadata": {
        "id": "a-GGuuJrbT6e"
      },
      "source": [
        "Here we are evaulating our model."
      ]
    },
    {
      "cell_type": "code",
      "metadata": {
        "colab": {
          "base_uri": "https://localhost:8080/"
        },
        "id": "04n6A7YLbUAp",
        "outputId": "aa443a62-f030-4832-a40e-d8704f56c963"
      },
      "source": [
        "test_loss, test_acc = model.evaluate(test_images, test_labels, verbose=2)"
      ],
      "execution_count": null,
      "outputs": [
        {
          "output_type": "stream",
          "text": [
            "313/313 - 3s - loss: 1.0569 - accuracy: 0.7030\n"
          ],
          "name": "stdout"
        }
      ]
    },
    {
      "cell_type": "markdown",
      "metadata": {
        "id": "2ikHdOh7dz6V"
      },
      "source": [
        "Here we are printing our test accuracy to get the final results."
      ]
    },
    {
      "cell_type": "code",
      "metadata": {
        "colab": {
          "base_uri": "https://localhost:8080/"
        },
        "id": "bb0SzY1hdBxi",
        "outputId": "fd006eee-695f-4422-e4b9-acafd16489e2"
      },
      "source": [
        "print(test_acc)"
      ],
      "execution_count": null,
      "outputs": [
        {
          "output_type": "stream",
          "text": [
            "0.703000009059906\n"
          ],
          "name": "stdout"
        }
      ]
    }
  ]
}
